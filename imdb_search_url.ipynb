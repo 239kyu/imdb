{
 "cells": [
  {
   "cell_type": "code",
   "execution_count": 301,
   "id": "aaa97c16",
   "metadata": {},
   "outputs": [
    {
     "name": "stdout",
     "output_type": "stream",
     "text": [
      "패키지 importing...\n",
      "----------------------------------------------------------------------------------------------------\n",
      "2021-07-01\n",
      "2021-09-31\n",
      "검색페이지 호출 완료\n"
     ]
    }
   ],
   "source": [
    "#이것은 imdb크롤러입니다.\n",
    "\n",
    "# 패키지 로드\n",
    "from selenium import webdriver\n",
    "from selenium.webdriver.common.by import By\n",
    "from bs4 import BeautifulSoup\n",
    "import time\n",
    "from datetime import datetime, timedelta\n",
    "import pandas as pd\n",
    "from tqdm import tqdm #진행상태 확인\n",
    "import requests\n",
    "print('패키지 importing...\\n' + '-' * 100)\n",
    "\n",
    "# 크롤링 시점 추출 영역\n",
    "date = str(datetime.now())\n",
    "date_1 = date[:date.rfind(':')]\n",
    "sleep_sec = 0.5\n",
    "\n",
    "#입력\n",
    "s_date=input()\n",
    "e_date=input()\n",
    "\n",
    "# 셀레니움 제어 시작\n",
    "driver = webdriver.Chrome()\n",
    "driver.get(\"https://www.imdb.com/search/title/?release_date={},{}&sort=release_date,asc&adult=include&country_of_origin=KR\".format(s_date, e_date))\n",
    "\n",
    "time.sleep(2)\n",
    "driver.maximize_window()\n",
    "\n",
    "# 스크롤 끝까지 내리기 함수 정의\n",
    "def scroll_to_bottom():\n",
    "    # 현재 높이 저장\n",
    "    prev_height = driver.execute_script(\"return document.body.scrollHeight\")\n",
    "\n",
    "    while True:\n",
    "        # 첫 번째로 스크롤 내리기\n",
    "        driver.execute_script(\"window.scrollTo(0,document.body.scrollHeight)\")\n",
    "        # 시간 대기\n",
    "        time.sleep(2)\n",
    "        # 현재 높이 저장\n",
    "        current_height = driver.execute_script(\"return document.body.scrollHeight\")\n",
    "        # 현재 높이와 이전 높이가 같으면 탈출\n",
    "        if current_height == prev_height:\n",
    "            break\n",
    "        # 업데이트해줘서 끝낼 수 있도록\n",
    "        prev_height = current_height\n",
    "\n",
    "# 스크롤 끝까지 내리기\n",
    "scroll_to_bottom()\n",
    "\n",
    "# \"더 보기\" 버튼 클릭하고 다시 스크롤 내리기\n",
    "while True:\n",
    "    try:\n",
    "        # \"더 보기\" 버튼 클릭\n",
    "        more_button = driver.find_element(By.XPATH, \"//span[@class='ipc-see-more__text']\")\n",
    "        more_button.click()\n",
    "        \n",
    "        # 시간 대기\n",
    "        time.sleep(2)\n",
    "        # 스크롤 끝까지 내리기\n",
    "        scroll_to_bottom()\n",
    "    except Exception as e:\n",
    "        # \"더 보기\" 버튼이 더 이상 없으면 예외 발생\n",
    "        break\n",
    "        \n",
    "html = driver.page_source\n",
    "soup = BeautifulSoup(html, 'lxml')\n",
    "\n",
    "driver.quit()\n",
    "\n",
    "print('검색페이지 호출 완료')"
   ]
  },
  {
   "cell_type": "code",
   "execution_count": 305,
   "id": "b49238a2",
   "metadata": {
    "scrolled": true
   },
   "outputs": [
    {
     "name": "stdout",
     "output_type": "stream",
     "text": [
      "주소정보 수집 크롤링 종료\n"
     ]
    }
   ],
   "source": [
    "# 링크 크롤링\n",
    "idurl_d = soup.find_all('a', {'class': 'ipc-title-link-wrapper'})\n",
    "idurl = [a.get('href') for a in idurl_d]\n",
    "\n",
    "# 제목 크롤링\n",
    "price_d = soup.find_all('h3',{'class': 'ipc-title__text' })\n",
    "price = [price.text for price in price_d]\n",
    "\n",
    "# 두 리스트의 길이를 맞추기\n",
    "min_length = min(len(idurl), len(price))\n",
    "idurl = idurl[:min_length]\n",
    "price = price[:min_length]\n",
    "\n",
    "data = {'title': price,\n",
    "          'url': idurl}\n",
    "\n",
    "df = pd.DataFrame(data)\n",
    "\n",
    "df['title_url'] = 'https://www.imdb.com/' + df['url'].str.split('?').str[0]\n",
    "df['release_url'] = 'https://www.imdb.com/' + df['url'].str.split('?').str[0] + 'releaseinfo/'\n",
    "\n",
    "print('주소정보 수집 크롤링 종료')"
   ]
  },
  {
   "cell_type": "code",
   "execution_count": 303,
   "id": "5c175138",
   "metadata": {
    "scrolled": true
   },
   "outputs": [
    {
     "data": {
      "text/html": [
       "<div>\n",
       "<style scoped>\n",
       "    .dataframe tbody tr th:only-of-type {\n",
       "        vertical-align: middle;\n",
       "    }\n",
       "\n",
       "    .dataframe tbody tr th {\n",
       "        vertical-align: top;\n",
       "    }\n",
       "\n",
       "    .dataframe thead th {\n",
       "        text-align: right;\n",
       "    }\n",
       "</style>\n",
       "<table border=\"1\" class=\"dataframe\">\n",
       "  <thead>\n",
       "    <tr style=\"text-align: right;\">\n",
       "      <th></th>\n",
       "      <th>title</th>\n",
       "      <th>url</th>\n",
       "      <th>title_url</th>\n",
       "      <th>release_url</th>\n",
       "    </tr>\n",
       "  </thead>\n",
       "  <tbody>\n",
       "    <tr>\n",
       "      <th>0</th>\n",
       "      <td>1. Sweet Curse</td>\n",
       "      <td>/title/tt15151810/?ref_=sr_t_1</td>\n",
       "      <td>https://www.imdb.com//title/tt15151810/</td>\n",
       "      <td>https://www.imdb.com//title/tt15151810/release...</td>\n",
       "    </tr>\n",
       "    <tr>\n",
       "      <th>1</th>\n",
       "      <td>2. Ledeu aijeu</td>\n",
       "      <td>/title/tt14979654/?ref_=sr_t_2</td>\n",
       "      <td>https://www.imdb.com//title/tt14979654/</td>\n",
       "      <td>https://www.imdb.com//title/tt14979654/release...</td>\n",
       "    </tr>\n",
       "    <tr>\n",
       "      <th>2</th>\n",
       "      <td>3. AleXa: Xtra</td>\n",
       "      <td>/title/tt15011364/?ref_=sr_t_3</td>\n",
       "      <td>https://www.imdb.com//title/tt15011364/</td>\n",
       "      <td>https://www.imdb.com//title/tt15011364/release...</td>\n",
       "    </tr>\n",
       "    <tr>\n",
       "      <th>3</th>\n",
       "      <td>4. Gan Tteoleojineun Donggeo</td>\n",
       "      <td>/title/tt13777028/?ref_=sr_t_4</td>\n",
       "      <td>https://www.imdb.com//title/tt13777028/</td>\n",
       "      <td>https://www.imdb.com//title/tt13777028/release...</td>\n",
       "    </tr>\n",
       "    <tr>\n",
       "      <th>4</th>\n",
       "      <td>Episode #1.12</td>\n",
       "      <td>/title/tt14728652/?ref_=sr_t_4</td>\n",
       "      <td>https://www.imdb.com//title/tt14728652/</td>\n",
       "      <td>https://www.imdb.com//title/tt14728652/release...</td>\n",
       "    </tr>\n",
       "    <tr>\n",
       "      <th>...</th>\n",
       "      <td>...</td>\n",
       "      <td>...</td>\n",
       "      <td>...</td>\n",
       "      <td>...</td>\n",
       "    </tr>\n",
       "    <tr>\n",
       "      <th>503</th>\n",
       "      <td>361. Paik's Spirit</td>\n",
       "      <td>/title/tt15381696/?ref_=sr_t_361</td>\n",
       "      <td>https://www.imdb.com//title/tt15381696/</td>\n",
       "      <td>https://www.imdb.com//title/tt15381696/release...</td>\n",
       "    </tr>\n",
       "    <tr>\n",
       "      <th>504</th>\n",
       "      <td>362. Twice: The Feels</td>\n",
       "      <td>/title/tt15529432/?ref_=sr_t_362</td>\n",
       "      <td>https://www.imdb.com//title/tt15529432/</td>\n",
       "      <td>https://www.imdb.com//title/tt15529432/release...</td>\n",
       "    </tr>\n",
       "    <tr>\n",
       "      <th>505</th>\n",
       "      <td>363. Wasteland</td>\n",
       "      <td>/title/tt15979226/?ref_=sr_t_363</td>\n",
       "      <td>https://www.imdb.com//title/tt15979226/</td>\n",
       "      <td>https://www.imdb.com//title/tt15979226/release...</td>\n",
       "    </tr>\n",
       "    <tr>\n",
       "      <th>506</th>\n",
       "      <td>364. Na Honja Sanda</td>\n",
       "      <td>/title/tt7997010/?ref_=sr_t_364</td>\n",
       "      <td>https://www.imdb.com//title/tt7997010/</td>\n",
       "      <td>https://www.imdb.com//title/tt7997010/releasei...</td>\n",
       "    </tr>\n",
       "    <tr>\n",
       "      <th>507</th>\n",
       "      <td>Moomoo Market Pt. 2</td>\n",
       "      <td>/title/tt15232962/?ref_=sr_t_364</td>\n",
       "      <td>https://www.imdb.com//title/tt15232962/</td>\n",
       "      <td>https://www.imdb.com//title/tt15232962/release...</td>\n",
       "    </tr>\n",
       "  </tbody>\n",
       "</table>\n",
       "<p>508 rows × 4 columns</p>\n",
       "</div>"
      ],
      "text/plain": [
       "                            title                               url  \\\n",
       "0                  1. Sweet Curse    /title/tt15151810/?ref_=sr_t_1   \n",
       "1                  2. Ledeu aijeu    /title/tt14979654/?ref_=sr_t_2   \n",
       "2                  3. AleXa: Xtra    /title/tt15011364/?ref_=sr_t_3   \n",
       "3    4. Gan Tteoleojineun Donggeo    /title/tt13777028/?ref_=sr_t_4   \n",
       "4                   Episode #1.12    /title/tt14728652/?ref_=sr_t_4   \n",
       "..                            ...                               ...   \n",
       "503            361. Paik's Spirit  /title/tt15381696/?ref_=sr_t_361   \n",
       "504         362. Twice: The Feels  /title/tt15529432/?ref_=sr_t_362   \n",
       "505                363. Wasteland  /title/tt15979226/?ref_=sr_t_363   \n",
       "506           364. Na Honja Sanda   /title/tt7997010/?ref_=sr_t_364   \n",
       "507           Moomoo Market Pt. 2  /title/tt15232962/?ref_=sr_t_364   \n",
       "\n",
       "                                   title_url  \\\n",
       "0    https://www.imdb.com//title/tt15151810/   \n",
       "1    https://www.imdb.com//title/tt14979654/   \n",
       "2    https://www.imdb.com//title/tt15011364/   \n",
       "3    https://www.imdb.com//title/tt13777028/   \n",
       "4    https://www.imdb.com//title/tt14728652/   \n",
       "..                                       ...   \n",
       "503  https://www.imdb.com//title/tt15381696/   \n",
       "504  https://www.imdb.com//title/tt15529432/   \n",
       "505  https://www.imdb.com//title/tt15979226/   \n",
       "506   https://www.imdb.com//title/tt7997010/   \n",
       "507  https://www.imdb.com//title/tt15232962/   \n",
       "\n",
       "                                           release_url  \n",
       "0    https://www.imdb.com//title/tt15151810/release...  \n",
       "1    https://www.imdb.com//title/tt14979654/release...  \n",
       "2    https://www.imdb.com//title/tt15011364/release...  \n",
       "3    https://www.imdb.com//title/tt13777028/release...  \n",
       "4    https://www.imdb.com//title/tt14728652/release...  \n",
       "..                                                 ...  \n",
       "503  https://www.imdb.com//title/tt15381696/release...  \n",
       "504  https://www.imdb.com//title/tt15529432/release...  \n",
       "505  https://www.imdb.com//title/tt15979226/release...  \n",
       "506  https://www.imdb.com//title/tt7997010/releasei...  \n",
       "507  https://www.imdb.com//title/tt15232962/release...  \n",
       "\n",
       "[508 rows x 4 columns]"
      ]
     },
     "execution_count": 303,
     "metadata": {},
     "output_type": "execute_result"
    }
   ],
   "source": [
    "df"
   ]
  },
  {
   "cell_type": "code",
   "execution_count": 304,
   "id": "a4a65d21",
   "metadata": {},
   "outputs": [],
   "source": [
    "df.to_excel('imdb_20210701_20210931.xlsx', index=False)"
   ]
  },
  {
   "cell_type": "code",
   "execution_count": 307,
   "id": "2ca12246",
   "metadata": {
    "scrolled": false
   },
   "outputs": [
    {
     "name": "stderr",
     "output_type": "stream",
     "text": [
      "Processing: 100%|██| 1/1 [00:01<00:00,  1.92s/it]\n"
     ]
    }
   ],
   "source": [
    "t_list = ['https://www.imdb.com//title/tt15151810/']\n",
    "\n",
    "data2 = []\n",
    "\n",
    "for r in tqdm(t_list, desc='Processing'):\n",
    "\n",
    "    headers = {'User-Agent': 'Mozilla/5.0 (Windows NT 10.0; Win64; x64) AppleWebKit/537.36 (KHTML, like Gecko) Chrome/39.0.2171.95 Safari/537.36'}\n",
    "    response = requests.get(url, headers=headers)\n",
    "\n",
    "    url = 'https://www.imdb.com/title/tt15151810/'      \n",
    "        \n",
    "    html = response.text\n",
    "    soup3 = BeautifulSoup(html, 'html.parser')    \n",
    "    \n",
    "    #타이틀제목\n",
    "    name = soup3.find('span', {'data-testid': 'hero__primary-text'})\n",
    "    names = name.text\n",
    "    \n",
    "    #평점\n",
    "    rating = soup3.find('span', {'class': 'sc-bde20123-1 cMEQkK'})\n",
    "    ratings = rating.text\n",
    "    \n",
    "    #출시연도와 러닝타임       \n",
    "    t_box = soup3.find('div', {'class': 'sc-69e49b85-0 jqlHBQ'})\n",
    "    dat = t_box.find('ul', {'class': 'ipc-inline-list ipc-inline-list--show-dividers sc-d8941411-2 cdJsTz baseAlt'}).text\n",
    "    \n",
    "    #장르\n",
    "    genres = soup3.find('div', {'data-testid': 'genres'}).text\n",
    "    language = soup3.find('li', {'data-testid': 'title-details-languages'}).text\n",
    "    \n",
    "    \n",
    "    data = {'title_name': names,\n",
    "            'title_url' : url * len(names),\n",
    "            'rating': ratings,\n",
    "            'releaseyear_runningtime': dat,\n",
    "            'genres': genres,\n",
    "            'language': language}    \n",
    "    \n",
    "    data2.append(data)\n",
    "    \n",
    "    \n",
    "df2 = pd.DataFrame(data2)"
   ]
  },
  {
   "cell_type": "code",
   "execution_count": 306,
   "id": "ce6547d9",
   "metadata": {},
   "outputs": [
    {
     "data": {
      "text/plain": [
       "'Sweet Curse'"
      ]
     },
     "execution_count": 306,
     "metadata": {},
     "output_type": "execute_result"
    }
   ],
   "source": [
    "names"
   ]
  },
  {
   "cell_type": "code",
   "execution_count": 300,
   "id": "2628a500",
   "metadata": {},
   "outputs": [
    {
     "data": {
      "text/html": [
       "<div>\n",
       "<style scoped>\n",
       "    .dataframe tbody tr th:only-of-type {\n",
       "        vertical-align: middle;\n",
       "    }\n",
       "\n",
       "    .dataframe tbody tr th {\n",
       "        vertical-align: top;\n",
       "    }\n",
       "\n",
       "    .dataframe thead th {\n",
       "        text-align: right;\n",
       "    }\n",
       "</style>\n",
       "<table border=\"1\" class=\"dataframe\">\n",
       "  <thead>\n",
       "    <tr style=\"text-align: right;\">\n",
       "      <th></th>\n",
       "      <th>title_name</th>\n",
       "      <th>title_url</th>\n",
       "      <th>rating</th>\n",
       "      <th>releaseyear_runningtime</th>\n",
       "      <th>genres</th>\n",
       "      <th>language</th>\n",
       "    </tr>\n",
       "  </thead>\n",
       "  <tbody>\n",
       "    <tr>\n",
       "      <th>0</th>\n",
       "      <td>Sweet Curse</td>\n",
       "      <td>https://www.imdb.com/title/tt15151810/https://...</td>\n",
       "      <td>5.8</td>\n",
       "      <td>202131m</td>\n",
       "      <td>ShortHorrorRomance</td>\n",
       "      <td>LanguageKorean</td>\n",
       "    </tr>\n",
       "  </tbody>\n",
       "</table>\n",
       "</div>"
      ],
      "text/plain": [
       "    title_name                                          title_url rating  \\\n",
       "0  Sweet Curse  https://www.imdb.com/title/tt15151810/https://...    5.8   \n",
       "\n",
       "  releaseyear_runningtime              genres        language  \n",
       "0                 202131m  ShortHorrorRomance  LanguageKorean  "
      ]
     },
     "execution_count": 300,
     "metadata": {},
     "output_type": "execute_result"
    }
   ],
   "source": [
    "df2"
   ]
  },
  {
   "cell_type": "code",
   "execution_count": 75,
   "id": "115478b7",
   "metadata": {},
   "outputs": [],
   "source": [
    "r_list = df['release_url'].tolist()\n",
    "t_list = ['https://www.imdb.com//title/tt15151810/releaseinfo']"
   ]
  },
  {
   "cell_type": "code",
   "execution_count": 191,
   "id": "fa18e372",
   "metadata": {
    "scrolled": false
   },
   "outputs": [
    {
     "name": "stderr",
     "output_type": "stream",
     "text": [
      "Processing: 100%|██| 1/1 [00:01<00:00,  1.53s/it]\n"
     ]
    }
   ],
   "source": [
    "data1 = []\n",
    "\n",
    "for r in tqdm(t_list, desc='Processing'):\n",
    "\n",
    "    headers = {'User-Agent': 'Mozilla/5.0 (Windows NT 10.0; Win64; x64) AppleWebKit/537.36 (KHTML, like Gecko) Chrome/39.0.2171.95 Safari/537.36'}\n",
    "    response = requests.get(url, headers=headers)\n",
    "\n",
    "    url = 'https://www.imdb.com//title/tt15151810/releaseinfo'      \n",
    "        \n",
    "    html = response.text\n",
    "    soup2 = BeautifulSoup(html, 'html.parser')    \n",
    "    \n",
    "    #타이틀 제목\n",
    "    names = soup2.find_all('h2', {'class': 'sc-a885edd8-9 dcErWY'})\n",
    "    namess = [name.text for name in names] \n",
    "    \n",
    "    #링크    \n",
    "    link_tag = soup2.find('link', {'rel': 'canonical'})\n",
    "    r_url = link_tag.get('href')    \n",
    "    \n",
    "    r_div = soup2.find('div', {'data-testid': 'sub-section-releases'})\n",
    "    \n",
    "    #출시국가    \n",
    "    a_tags = r_div.find_all('a', {'class': 'ipc-metadata-list-item__label ipc-metadata-list-item__label--link'})\n",
    "    r_countries = [a_tag.text for a_tag in a_tags] \n",
    "    \n",
    "    #출시 연월    \n",
    "    span_tags = r_div.find_all('span', {'class': 'ipc-metadata-list-item__list-content-item'})\n",
    "    r_date = [span_tag.text for span_tag in span_tags]        \n",
    "    \n",
    "    data = {'title_name': namess * len(r_date),\n",
    "            'release_url': r_url * len(r_date),\n",
    "            'release_countries': r_countries,\n",
    "            'release_date': r_date}    \n",
    "    \n",
    "    data1.append(data)\n",
    "    \n",
    "df = pd.DataFrame(data1)"
   ]
  },
  {
   "cell_type": "code",
   "execution_count": 193,
   "id": "87b50f48",
   "metadata": {
    "scrolled": true
   },
   "outputs": [
    {
     "data": {
      "text/html": [
       "<div>\n",
       "<style scoped>\n",
       "    .dataframe tbody tr th:only-of-type {\n",
       "        vertical-align: middle;\n",
       "    }\n",
       "\n",
       "    .dataframe tbody tr th {\n",
       "        vertical-align: top;\n",
       "    }\n",
       "\n",
       "    .dataframe thead th {\n",
       "        text-align: right;\n",
       "    }\n",
       "</style>\n",
       "<table border=\"1\" class=\"dataframe\">\n",
       "  <thead>\n",
       "    <tr style=\"text-align: right;\">\n",
       "      <th></th>\n",
       "      <th>title_name</th>\n",
       "      <th>release_url</th>\n",
       "      <th>release_countries</th>\n",
       "      <th>release_date</th>\n",
       "    </tr>\n",
       "  </thead>\n",
       "  <tbody>\n",
       "    <tr>\n",
       "      <th>0</th>\n",
       "      <td>[Sweet Curse]</td>\n",
       "      <td>https://www.imdb.com/title/tt15151810/releasei...</td>\n",
       "      <td>[South Korea]</td>\n",
       "      <td>[July 1, 2021]</td>\n",
       "    </tr>\n",
       "  </tbody>\n",
       "</table>\n",
       "</div>"
      ],
      "text/plain": [
       "      title_name                                        release_url  \\\n",
       "0  [Sweet Curse]  https://www.imdb.com/title/tt15151810/releasei...   \n",
       "\n",
       "  release_countries    release_date  \n",
       "0     [South Korea]  [July 1, 2021]  "
      ]
     },
     "execution_count": 193,
     "metadata": {},
     "output_type": "execute_result"
    }
   ],
   "source": [
    "df"
   ]
  }
 ],
 "metadata": {
  "kernelspec": {
   "display_name": "Python 3 (ipykernel)",
   "language": "python",
   "name": "python3"
  },
  "language_info": {
   "codemirror_mode": {
    "name": "ipython",
    "version": 3
   },
   "file_extension": ".py",
   "mimetype": "text/x-python",
   "name": "python",
   "nbconvert_exporter": "python",
   "pygments_lexer": "ipython3",
   "version": "3.9.7"
  }
 },
 "nbformat": 4,
 "nbformat_minor": 5
}
